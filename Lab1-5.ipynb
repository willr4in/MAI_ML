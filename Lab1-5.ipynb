{
 "cells": [
  {
   "cell_type": "markdown",
   "id": "ec6e7d18-6a6e-4a51-a7cd-0a1152604973",
   "metadata": {},
   "source": [
    "## Лабораторная работа №1 | Вариант 5"
   ]
  },
  {
   "cell_type": "markdown",
   "id": "277877ce-f982-4711-a6a6-2a4a90871409",
   "metadata": {},
   "source": [
    "Выполнил: "
   ]
  },
  {
   "cell_type": "markdown",
   "id": "031f025d-84dc-470f-b839-456a76d9636b",
   "metadata": {},
   "source": [
    "### 1. Numpy"
   ]
  },
  {
   "cell_type": "code",
   "execution_count": 2,
   "id": "8a2c6f8d-e85b-4982-ba6d-77ffdb7d53e8",
   "metadata": {},
   "outputs": [],
   "source": [
    "import numpy as np"
   ]
  },
  {
   "cell_type": "markdown",
   "id": "6ff3559d-5f3e-4540-9a31-bfb9f42a23da",
   "metadata": {},
   "source": [
    "1. Создайте единичную матрицу размером 3х3"
   ]
  },
  {
   "cell_type": "code",
   "execution_count": null,
   "id": "752bc586-1e3f-4085-85c3-4068b781314f",
   "metadata": {},
   "outputs": [],
   "source": [
    "matrix = np.eye(3)"
   ]
  },
  {
   "cell_type": "markdown",
   "id": "0243a0f6-1905-4e2d-9572-9ba49dc003a8",
   "metadata": {},
   "source": [
    "2. Создайте кастомный dtype который описывает цвет состоящий из 4х unsigned bytes(RGBA пиксель)"
   ]
  },
  {
   "cell_type": "code",
   "execution_count": null,
   "id": "ec6ae581-5adf-459c-bdc7-8b015d9529f6",
   "metadata": {},
   "outputs": [],
   "source": [
    "dt = np.dtype([('r', np.uint8), ('g', np.uint8), ('b', np.uint8), ('a', np.uint8)])\n"
   ]
  },
  {
   "cell_type": "markdown",
   "id": "8c7d3811-a555-4c02-ada8-e4a70b9dee46",
   "metadata": {},
   "source": [
    "3. Как игнорировать все numpy warnings(не рекомендуем к использованию)?"
   ]
  },
  {
   "cell_type": "code",
   "execution_count": null,
   "id": "12d0ed34-908c-4840-8b81-457e64dd7b0b",
   "metadata": {},
   "outputs": [],
   "source": [
    "np.setter(all='ignore')"
   ]
  },
  {
   "cell_type": "markdown",
   "id": "b7ca56e6-a194-4c42-b8a2-307fcf40f648",
   "metadata": {},
   "source": [
    "4. Создайте случайный вектор размера 10 и отсортируйте его"
   ]
  },
  {
   "cell_type": "code",
   "execution_count": null,
   "id": "1b1d64cd-0e28-400f-8d49-a1274947e150",
   "metadata": {},
   "outputs": [],
   "source": [
    "random_vector = np.random.rand(10)\n",
    "\n",
    "sorted_vector = np.sort(random_vector)"
   ]
  },
  {
   "cell_type": "markdown",
   "id": "b3b2cd1e-e996-45e0-b9ed-e12ce653a9c3",
   "metadata": {},
   "source": [
    "5. Создайте read-only массив(неизменяемый)"
   ]
  },
  {
   "cell_type": "code",
   "execution_count": null,
   "id": "c40ef785-d750-42ba-ac6e-b777866202a6",
   "metadata": {},
   "outputs": [],
   "source": [
    "random_array = np.random.radint(0, 10, 10)\n",
    "\n",
    "random_array.setflags(write=False)"
   ]
  },
  {
   "cell_type": "markdown",
   "id": "8108b3a8-5ba8-472d-ad6b-095ade8678ef",
   "metadata": {},
   "source": [
    "6. Рассмотрим случайную матрицу размером 10х2, представляющую декартовы координаты, преобразуем их в полярные координаты"
   ]
  },
  {
   "cell_type": "code",
   "execution_count": null,
   "id": "89b58c0a-bd5d-435a-be45-719fdfce662a",
   "metadata": {},
   "outputs": [],
   "source": [
    "cartesian_matrix = np.random.randint(0, 10, (10, 2))\n",
    "\n",
    "def to_polar(cartesian):\n",
    "    x = cartesian[:, 0]\n",
    "    y = cartesian[:, 1]\n",
    "    r = np.sqrt(x**2 + y**2)\n",
    "    theta = np.arctan2(y, x)\n",
    "    return r, theta"
   ]
  },
  {
   "cell_type": "markdown",
   "id": "98511652-db85-4506-a5b8-f94b05d35ce9",
   "metadata": {},
   "source": [
    "7. Создайте структурированный массив с координатами x и y, охватывающий область [0,1]x[0,1]"
   ]
  },
  {
   "cell_type": "code",
   "execution_count": null,
   "id": "ca72cdb0-ed24-460d-81a9-220b850d62c3",
   "metadata": {},
   "outputs": [],
   "source": [
    "x = np.random.rand(10)\n",
    "y = np.random.rand(10)\n",
    "\n",
    "dt = [('x', 'float'),('y', 'float')]\n",
    "array = np.zeros(10, dtype=dt)\n",
    "\n",
    "array['x'] = x\n",
    "array['y'] = y"
   ]
  },
  {
   "cell_type": "markdown",
   "id": "1412a70a-2a1e-406e-a227-afc9a47ed659",
   "metadata": {},
   "source": [
    "8. Учитывая два массива X и Y, постройте матрицу Коши $C$ ($C_{ij} =\\frac{1}{x_i - y_j}$)"
   ]
  },
  {
   "cell_type": "code",
   "execution_count": 3,
   "id": "22bb8bbf-52dd-4d3c-86c0-c4e9637b909b",
   "metadata": {},
   "outputs": [],
   "source": [
    "x = np.random.normal(size=(5))\n",
    "y = np.random.normal(size=(5))\n",
    "\n",
    "C = 1 / (x[:, np.newaxis] - y)"
   ]
  },
  {
   "cell_type": "markdown",
   "id": "f7dc66bf-f7c8-4d78-834b-451651f6839a",
   "metadata": {},
   "source": [
    "9. Как конвертировать массив float(32 bit) к массиву целых чисел (integer 32 bit) in place?"
   ]
  },
  {
   "cell_type": "code",
   "execution_count": null,
   "id": "0ecf5586-d30e-4256-ab93-7ff9bab0b34b",
   "metadata": {},
   "outputs": [],
   "source": [
    "float_array = np.random.rand(10).astype(np.float32) * 10\n",
    "\n",
    "int_array = float_array.astype(np.int32, copy=False)"
   ]
  },
  {
   "cell_type": "markdown",
   "id": "a66194f1-0099-4808-8ebf-5cf10eee5071",
   "metadata": {},
   "source": [
    "10. Как случайно заменить p элементов в 2D массиве?"
   ]
  },
  {
   "cell_type": "code",
   "execution_count": null,
   "id": "07ed452c-3f7c-40a7-a5b5-716602a5eed9",
   "metadata": {},
   "outputs": [],
   "source": [
    "array = np.random.randint(0, 100, (5, 5))\n",
    "\n",
    "p = 5 \n",
    "\n",
    "indices = np.arange(array.size)\n",
    "\n",
    "random_indices = np.random.choice(indices, size=p, replace=False)\n",
    "\n",
    "array.flat[random_indices] = np.random.randint(0, 100, size=p)"
   ]
  },
  {
   "cell_type": "markdown",
   "id": "5bd0f757-bb01-4afb-b4f0-6821b5c5b2b7",
   "metadata": {},
   "source": [
    "### 2. Pandas"
   ]
  },
  {
   "cell_type": "markdown",
   "id": "bdffd013-e573-4318-8062-65ae1c5e07e8",
   "metadata": {},
   "source": [
    "Найдите ответы на вопросы или выполните действия с предложенным датасетом \n",
    "\n",
    "Классический начальный набор данных - данные пассажиров титаника.\n",
    "\n",
    "Файл: `data.csv`\n",
    "\n",
    "```\n",
    "PassangerId - уникальный номер пассажира\n",
    "Survived - выжил человек или нет\n",
    "Pclass - класс обслуживания\n",
    "Name - имя человека, обращение к ней/нему\n",
    "Sex - пол человека\n",
    "Age - возраст на момент крушения\n",
    "SibSp - количество братьев и сестер / супругов на борту \"Титаника\"\n",
    "Parch - количество родителей / детей на борту \"Титаника\"\n",
    "Ticket - номер билета\n",
    "Fare - стоимость проезда для пассажиров\n",
    "Cabin - каюта\n",
    "Embarked - причал отбытия. C = Cherbourg Q = Queenstown S = Southampton\n",
    "```"
   ]
  },
  {
   "cell_type": "code",
   "execution_count": 12,
   "id": "0778ec2b-a7b2-4738-b771-bb1781986f62",
   "metadata": {},
   "outputs": [],
   "source": [
    "import pandas as pd\n",
    "\n",
    "pd.set_option(\"display.precision\", 2)\n",
    "DATA_PATH = \"data.csv\"\n",
    "df = pd.read_csv(DATA_PATH)"
   ]
  },
  {
   "cell_type": "markdown",
   "id": "1026e8c6-513a-41e3-b2f4-68aae18b8435",
   "metadata": {},
   "source": [
    "1. Узнайте сколько было на борту человек"
   ]
  },
  {
   "cell_type": "code",
   "execution_count": null,
   "id": "e74655aa-b97c-42e5-b972-e0753ddc2331",
   "metadata": {},
   "outputs": [],
   "source": [
    "\n",
    "total_passengers = df['PassengerId'].count()"
   ]
  },
  {
   "cell_type": "markdown",
   "id": "eee028a5-9311-4a4f-b4ac-1fb75acfb4b3",
   "metadata": {},
   "source": [
    "2. Какой медианный и средний возраста пассажиров"
   ]
  },
  {
   "cell_type": "code",
   "execution_count": null,
   "id": "ac0fb641-96d2-4e7c-88d5-636ce3b699d2",
   "metadata": {},
   "outputs": [],
   "source": [
    "avg_age = df['Age'].mean()\n",
    "\n",
    "median_age = df['Age'].median()"
   ]
  },
  {
   "cell_type": "markdown",
   "id": "cd7979ba-2fa8-4fd3-986d-26cee122da1f",
   "metadata": {},
   "source": [
    "3. Посчитайте процент выживаемости детей(до 16 лет) и взрослых"
   ]
  },
  {
   "cell_type": "code",
   "execution_count": null,
   "id": "3915f77b-116c-482b-8644-2f5f11931af9",
   "metadata": {},
   "outputs": [],
   "source": [
    "survival_children = df[df['Age'] < 16]['Survived'].mean() * 100\n",
    "survival_adults = df[df['Age'] >= 30]['Survived'].mean() * 100"
   ]
  },
  {
   "cell_type": "markdown",
   "id": "1b69ba67-61a8-4765-9795-cfab1a09e929",
   "metadata": {},
   "source": [
    "4. Верна ли гипотеза, что женщины и дети сажались в шлюпки первыми и выживали больше?"
   ]
  },
  {
   "cell_type": "code",
   "execution_count": null,
   "id": "1228d2e9-fc56-4240-95c6-c98a8b84c016",
   "metadata": {},
   "outputs": [],
   "source": [
    "men = df[df['Sex'] == 'male']\n",
    "women = df[df['Sex'] == 'female']\n",
    "children = df[df['Age'] < 16]\n",
    "\n",
    "percent_men = men['Survived'].mean() * 100\n",
    "percent_women = women['Survived'].mean() * 100\n",
    "percent_children = children['Survived'].mean() * 100\n",
    "\n",
    "if percent_men < percent_women and percent_men < percent_children:\n",
    "    print(\"Процент выживших женщин и детей больше, чем мужчин.\")\n",
    "else:\n",
    "    print(\"Процент выживших женщин и детей не больше, чем мужчин.\")"
   ]
  },
  {
   "cell_type": "markdown",
   "id": "5acec4fd-f740-49a8-a5d8-562d358239c9",
   "metadata": {},
   "source": [
    "5. Зависит ли выживаемость от класса обслуживания?"
   ]
  },
  {
   "cell_type": "code",
   "execution_count": null,
   "id": "cac8daef-f4e8-4c8b-b7f4-d41a6adf35ed",
   "metadata": {},
   "outputs": [],
   "source": [
    "first_class = df[df['Pclass'] == 1]\n",
    "second_class = df[df['Pclass'] == 2]\n",
    "third_class = df[df['Pclass'] == 3]\n",
    "\n",
    "survived1 = first_class['Survived'].sum()\n",
    "survived2 = second_class['Survived'].sum()\n",
    "survived3 =  third_class['Survived'].sum()\n",
    "\n",
    "if survived1 > survived2 and survived1 > survived3:\n",
    "    print(\"Больше всего выживало пассажирова первого класса\")\n",
    "elif survived2 > survived1 and survived2 > survived3:\n",
    "    print(\"Больше всего выживало пассажирова второго класса\")\n",
    "else:\n",
    "    print(\"Больше всего выживало пассажирова третьего класса\")"
   ]
  },
  {
   "cell_type": "markdown",
   "id": "8d6171a9-0f75-4f3e-ac54-95d03d1f70b6",
   "metadata": {},
   "source": [
    "6. Посчитайте средний возраст умерших женщин и мужчин"
   ]
  },
  {
   "cell_type": "code",
   "execution_count": null,
   "id": "c64d0892-2fb8-4304-966c-5cbb32b03c0a",
   "metadata": {},
   "outputs": [],
   "source": [
    "women = df[df['Sex'] == 'female']\n",
    "men = df[df['Sex'] == 'male']\n",
    "\n",
    "dead_women = women[women['Survived'] == 0]\n",
    "dead_men = men[men['Survived'] == 0]\n",
    "\n",
    "avg_age_women = dead_women['Age'].mean()\n",
    "avg_age_men = dead_men['Age'].mean()"
   ]
  },
  {
   "cell_type": "markdown",
   "id": "d29320f9-aef8-452c-9d61-0afa72dd93b6",
   "metadata": {},
   "source": [
    "7. Различается ли процент выживаемости пассажиров с хотя бы одним родственником на борту и одиночек?"
   ]
  },
  {
   "cell_type": "code",
   "execution_count": null,
   "id": "d04e1904-f9f3-40bd-abbd-4d53ee9f7bd2",
   "metadata": {},
   "outputs": [],
   "source": [
    "passengers_with_relatives = df[(df['SibSp'] > 0) & (df['Parch'] > 0)].drop_duplicates(['PassengerId'])\n",
    "passengers_without_relatives = df[(df['SibSp'] == 0) & (df['Parch'] == 0)].drop_duplicates(['PassengerId'])\n",
    "\n",
    "survived_passengers_with_relatives = passengers_with_relatives['Survived'].mean() * 100\n",
    "survived_passengers_without_relatives = passengers_without_relatives['Survived'].mean() * 100\n",
    "\n",
    "if survived_passengers_with_relatives > survived_passengers_without_relatives:\n",
    "    print(\"Процент выживших с родственниками больше\")\n",
    "else:\n",
    "    print(\"Процент одиночек выше\")"
   ]
  },
  {
   "cell_type": "markdown",
   "id": "1d447d6e-cfde-411c-9078-cd8f41f02d8b",
   "metadata": {},
   "source": [
    "8. Различается ли средняя стоимость билета у умерших и выживших пассажиров?"
   ]
  },
  {
   "cell_type": "code",
   "execution_count": null,
   "id": "b30df6b1-5eca-43da-a115-1c1a3cbfd899",
   "metadata": {},
   "outputs": [],
   "source": [
    "dead_passengers = df[df['Survived'] == 0]\n",
    "alive_passengers = df[df['Survived'] == 1]\n",
    "\n",
    "avg_cost_ticket_dead_passengers = dead_passengers['Fare'].mean()\n",
    "\n",
    "avg_cost_ticket_alive_passengers = alive_passengers['Fare'].mean()\n",
    "\n",
    "if avg_cost_ticket_alive_passengers > avg_cost_ticket_dead_passengers:\n",
    "    print(\"Средняя стоимость билета выживших пассажиров выше\")\n",
    "else:\n",
    "    print(\"Средняя стоимость билетов погибших выше\")"
   ]
  },
  {
   "cell_type": "markdown",
   "id": "c41d5d99-65f7-4d17-82ae-971ec959f327",
   "metadata": {},
   "source": [
    "9. Выведите максимальный и минимальный возраст выживших пассажиров во 2 классе обслуживания"
   ]
  },
  {
   "cell_type": "code",
   "execution_count": null,
   "id": "275bcc04-659b-4521-a9e5-200a5f4ef674",
   "metadata": {},
   "outputs": [],
   "source": [
    "\n",
    "survived_passengers = df[df['Survived'] == 1]\n",
    "\n",
    "survived_passengers_second_class = survived_passengers[df['Pclass'] == 2]\n",
    "\n",
    "max_age_survived_passengers_second_class = survived_passengers_second_class['Age'].max()\n",
    "min_age_survived_passengers_second_class = survived_passengers_second_class['Age'].min()"
   ]
  },
  {
   "cell_type": "markdown",
   "id": "a1f7a5c0-259c-4837-a5d1-2dfc05e7c13e",
   "metadata": {},
   "source": [
    "10. Подтвердите или опровергните гипотезу: молодым мужчинам(от 18 лет) выжить легче, чем более взрослым"
   ]
  },
  {
   "cell_type": "code",
   "execution_count": null,
   "id": "a2da4d57-edb4-4179-8bee-3deda6cd00e6",
   "metadata": {},
   "outputs": [],
   "source": [
    "young = df[(df['Age'] >= 18) & (df['Age'] < 30)]\n",
    "\n",
    "adults = df[df['Age'] >= 30]\n",
    "\n",
    "survived_young = young['Survived'].sum()\n",
    "survived_adults = adults['Survived'].sum() \n",
    "\n",
    "if survived_adults < survived_young:\n",
    "    print(\"Молодым выжить проще\")\n",
    "else:\n",
    "    print(\"Есть еще порох в поровховницах\")"
   ]
  },
  {
   "cell_type": "markdown",
   "id": "deb4ca3a-3d8a-4205-bee9-d26fd28638b2",
   "metadata": {},
   "source": [
    "### 3. Визуализация"
   ]
  },
  {
   "cell_type": "markdown",
   "id": "f8941ce1-cbf2-465a-b013-1b84aeb999ef",
   "metadata": {},
   "source": [
    "Используя библиотеки matplotlib/sns/plotly/pandas и набор данных представленный ранее визуализируйте"
   ]
  },
  {
   "cell_type": "markdown",
   "id": "5e98ce6f-8d02-4120-ad85-241494c038d6",
   "metadata": {},
   "source": [
    "1. Постройте гистограмму распределения возростов пассажиров"
   ]
  },
  {
   "cell_type": "code",
   "execution_count": null,
   "id": "664666b2-17b7-49dd-a3bd-c4be9361755d",
   "metadata": {},
   "outputs": [],
   "source": [
    "import matplotlib.pyplot as plt\n",
    "age_counts = df['Age'].value_counts().sort_index()\n",
    "\n",
    "plt.bar(age_counts.index, age_counts.values, width=2)\n",
    "plt.title('Распределение возраcтов пассажиров')\n",
    "plt.xlabel('Возраст')\n",
    "plt.ylabel('Количество')\n",
    "plt.show()"
   ]
  },
  {
   "cell_type": "markdown",
   "id": "4c7500bb-36ca-4ea7-bc3c-4f15afbd4c41",
   "metadata": {},
   "source": [
    "2. Постройте гистограммы распределения цен для пассажиров разных классов"
   ]
  },
  {
   "cell_type": "code",
   "execution_count": null,
   "id": "7325e7f8-5f00-4a82-8184-7064505f7ccd",
   "metadata": {},
   "outputs": [],
   "source": [
    "first_class = df[df['Pclass'] == 1]\n",
    "second_class = df[df['Pclass'] == 2]\n",
    "third_class = df[df['Pclass'] == 3]\n",
    "\n",
    "cost_of_first_class = first_class['Fare'].value_counts().sort_index()\n",
    "cost_of_second_class = second_class['Fare'].value_counts().sort_index()\n",
    "cost_of_third_class = third_class['Fare'].value_counts().sort_index()\n",
    "\n",
    "fig, ax = plt.subplots(nrows=3)\n",
    "\n",
    "ax[0].bar(cost_of_first_class.index, cost_of_first_class.values, label='Первый класс', color='blue')\n",
    "ax[1].bar(cost_of_second_class.index, cost_of_second_class.values, label='Второй класс', color='black')\n",
    "ax[2].bar(cost_of_third_class.index, cost_of_third_class.values, label='Третий класс', color='gray')\n",
    "\n",
    "fig.suptitle('Распределение цен по классам')\n",
    "fig.text(0.5, 0.02, 'Цена', ha='center')\n",
    "fig.text(0.02, 0.5, 'Количество', va='center', rotation='vertical')\n",
    "\n",
    "ax[0].legend()\n",
    "ax[1].legend()\n",
    "ax[2].legend()\n",
    "\n",
    "plt.show()"
   ]
  },
  {
   "cell_type": "markdown",
   "id": "efdd0669-36e0-4708-ac6b-ad0d92881113",
   "metadata": {},
   "source": [
    "3. Постройте зависимость цены от возраста пассажира"
   ]
  },
  {
   "cell_type": "code",
   "execution_count": null,
   "id": "7504a170-04a1-4b86-924d-8d46be16fd3c",
   "metadata": {},
   "outputs": [],
   "source": [
    "plt.bar(df['Age'], df['Fare'], width=2)\n",
    "\n",
    "plt.title('Зависимость цены от возраста')\n",
    "plt.xlabel('Возраст')\n",
    "plt.ylabel('Цена')\n",
    "\n",
    "plt.show()"
   ]
  },
  {
   "cell_type": "markdown",
   "id": "b5839a48-e992-45fc-81ee-59cb5aa79dda",
   "metadata": {},
   "source": [
    "4. Постройте box plot отображающий распределение цен на билеты в разных классах"
   ]
  },
  {
   "cell_type": "code",
   "execution_count": null,
   "id": "1a942378-45ea-47a0-bac9-488960491613",
   "metadata": {},
   "outputs": [],
   "source": [
    "plt.boxplot(df.groupby('Pclass')['Fare'].apply(list), labels=['Первый', 'Второй', 'Третий'])\n",
    "\n",
    "plt.title('Распределение цен на билеты по классам')\n",
    "plt.xlabel('Класс')\n",
    "plt.ylabel('Цена билета')\n",
    "\n",
    "plt.show()"
   ]
  },
  {
   "cell_type": "markdown",
   "id": "d4c97bef-bb64-43cc-a89f-7510174492ec",
   "metadata": {},
   "source": [
    "5. Визуализируйте распределение долей выживших среди мужчин, женщин и детей(до 16 лет)"
   ]
  },
  {
   "cell_type": "code",
   "execution_count": null,
   "id": "a1f444af-3544-432c-8dc6-bb74d4cff272",
   "metadata": {},
   "outputs": [],
   "source": [
    "men = df[df['Sex'] == 'male']\n",
    "women = df[df['Sex'] == 'female']\n",
    "kids = df[df['Age'] < 16]\n",
    "\n",
    "survived_men = men['Survived'].sum()\n",
    "deceased_men = (men['Survived'] == 0).sum()\n",
    "\n",
    "survived_women = women['Survived'].sum()\n",
    "deceased_women = (women['Survived'] == 0).sum()\n",
    "\n",
    "survived_kids = kids['Survived'].sum()\n",
    "deceased_kids = (kids['Survived'] == 0).sum()\n",
    "\n",
    "total_men = survived_men + deceased_men\n",
    "total_women = survived_women + deceased_women \n",
    "total_kids = survived_kids + deceased_kids\n",
    "\n",
    "men_survival_rate = survived_men / total_men\n",
    "women_survival_rate = survived_women / total_women\n",
    "kids_survival_rate = survived_kids / total_kids\n",
    "\n",
    "labels = ['Мужчины', 'Женщины', 'Дети']\n",
    "survival_rates = [men_survival_rate, women_survival_rate, kids_survival_rate]\n",
    "\n",
    "plt.pie(survival_rates, labels=labels, autopct='%.2f%%')\n",
    "plt.title('Доли выживших среди мужчин, женщин и детей') \n",
    "plt.show()"
   ]
  },
  {
   "cell_type": "markdown",
   "id": "16249674-e680-4ab0-a16a-4e98c24202ed",
   "metadata": {},
   "source": [
    "6. Сравните плотности распределения возростов выживших и умерших пассажиров, сделайте выводы"
   ]
  },
  {
   "cell_type": "code",
   "execution_count": null,
   "id": "5d1f5e09-3f97-45ad-87f8-c9796cc214db",
   "metadata": {},
   "outputs": [],
   "source": [
    "survived_ages = df.loc[df['Survived'] == 1, 'Age']\n",
    "died_ages = df.loc[df['Survived'] == 0, 'Age']\n",
    "\n",
    "fig, ax = plt.subplots(figsize=(10, 6))\n",
    "\n",
    "_, bins, _ = ax.hist(survived_ages, bins=20, density=True, alpha=0.5, label='Выжившие')\n",
    "_, _, _ = ax.hist(died_ages, bins=bins, density=True, alpha=0.5, label='Умершие')\n",
    "\n",
    "survived_density = np.histogram(survived_ages, bins=bins, density=True)[0]\n",
    "died_density = np.histogram(died_ages, bins=bins, density=True)[0]\n",
    "\n",
    "x = (bins[:-1] + bins[1:]) / 2\n",
    "\n",
    "ax.plot(x, survived_density, color='blue', linewidth=2, label='Плотность выживших')\n",
    "ax.plot(x, died_density, color='red', linewidth=2, label='Плотность умерших')\n",
    "\n",
    "ax.set_xlabel('Возраст')\n",
    "ax.set_ylabel('Плотность')\n",
    "ax.set_title('Сравнение возрастов выживших и умерших')\n",
    "ax.legend()\n",
    "plt.show()"
   ]
  },
  {
   "cell_type": "markdown",
   "id": "16afdeec-8c90-4ed1-a599-e0b1343bbf5c",
   "metadata": {},
   "source": [
    "7. Постройте круговую диаграмму отображающую выживаемость мужчин и женщин в разных классах обслуживания(визуализация должна быть интуитивно понятная без объяснений, женщины и мужчины соответствующих классов объеденены визуально в одну группу и 2 подгруппы)*\n",
    "\n",
    "\\* Задание на доп. балл"
   ]
  },
  {
   "cell_type": "code",
   "execution_count": null,
   "id": "e10d0cc7-a1ca-4204-a875-b1660e44618d",
   "metadata": {},
   "outputs": [],
   "source": []
  }
 ],
 "metadata": {
  "kernelspec": {
   "display_name": "Python 3 (ipykernel)",
   "language": "python",
   "name": "python3"
  },
  "language_info": {
   "codemirror_mode": {
    "name": "ipython",
    "version": 3
   },
   "file_extension": ".py",
   "mimetype": "text/x-python",
   "name": "python",
   "nbconvert_exporter": "python",
   "pygments_lexer": "ipython3",
   "version": "3.11.7"
  }
 },
 "nbformat": 4,
 "nbformat_minor": 5
}
